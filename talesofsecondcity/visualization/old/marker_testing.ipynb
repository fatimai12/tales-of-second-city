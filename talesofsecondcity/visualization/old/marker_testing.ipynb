{
  "cells": [
    {
      "cell_type": "code",
      "execution_count": 1,
      "metadata": {},
      "outputs": [],
      "source": [
        "import geopandas as gpd\n",
        "import folium"
      ]
    },
    {
      "cell_type": "code",
      "execution_count": 2,
      "metadata": {},
      "outputs": [],
      "source": [
        "# generate base map\n",
        "ps_data = gpd.read_file('../../data/full_ps_data.csv')\n",
        "base_map = folium.Map(location=[41.7377, -87.6976], zoom_start=11, overlay = False, name = \"base\")"
      ]
    },
    {
      "cell_type": "code",
      "execution_count": 3,
      "metadata": {},
      "outputs": [],
      "source": [
        "ps_data = ps_data.drop(ps_data[ps_data['service_type'] == 'bus stop'].index)"
      ]
    },
    {
      "cell_type": "code",
      "execution_count": 4,
      "metadata": {},
      "outputs": [],
      "source": [
        "service_dict = {'bus stop' : 'Bus Stop','divvy station' : 'Divvy Station', 'l stop': 'L Stop', 'park' : 'Park', 'library' : 'Library'}\n",
        "ps_data[\"service_type\"] =ps_data[\"service_type\"].replace(service_dict)"
      ]
    },
    {
      "cell_type": "code",
      "execution_count": 5,
      "metadata": {},
      "outputs": [],
      "source": [
        "bus_stops = folium.FeatureGroup(\"Bus Stops\").add_to(base_map)\n",
        "divvy_stations = folium.FeatureGroup(\"Divvy Bike Stations\").add_to(base_map)\n",
        "l_stops = folium.FeatureGroup(\"L Stop\").add_to(base_map)\n",
        "parks = folium.FeatureGroup(\"Parks\").add_to(base_map)\n",
        "library = folium.FeatureGroup(\"Libraries\").add_to(base_map)"
      ]
    },
    {
      "cell_type": "code",
      "execution_count": 6,
      "metadata": {},
      "outputs": [],
      "source": [
        "# folium.Marker(\n",
        "#     location=[41.956892084, -87.74750923800002],\n",
        "#     tooltip=\"Cicero & Berteau\",\n",
        "#     popup=\"Cicero & Berteau\",\n",
        "#     icon=folium.Icon(icon=\"cloud\"),\n",
        "# ).add_to(base_map)"
      ]
    },
    {
      "cell_type": "code",
      "execution_count": 7,
      "metadata": {},
      "outputs": [],
      "source": [
        "feature_dict = {'Bus Stop' : bus_stops, \n",
        "                'Divvy Station' : divvy_stations,\n",
        "                'L Stop': l_stops, \n",
        "                'Park' : parks, \n",
        "                'Library' : library\n",
        "                }"
      ]
    },
    {
      "cell_type": "code",
      "execution_count": 8,
      "metadata": {},
      "outputs": [],
      "source": [
        "# icon_dict = {'Bus Stop' : 'bus', \n",
        "#                 'Divvy Station' : 'fa-light fa-bicycle',\n",
        "#                 'L Stop': 'fa-light fa-train', \n",
        "#                 'Park' : 'fa-light fa-tree', \n",
        "#                 'Library' : 'book'\n",
        "#                 }"
      ]
    },
    {
      "cell_type": "code",
      "execution_count": 9,
      "metadata": {},
      "outputs": [],
      "source": [
        "color_dict = {'Bus Stop' : 'red', \n",
        "                'Divvy Station' : 'blue',\n",
        "                'L Stop': 'purple', \n",
        "                'Park' : 'darkgreen', \n",
        "                'Library' : 'orange'\n",
        "                }"
      ]
    },
    {
      "cell_type": "code",
      "execution_count": 10,
      "metadata": {},
      "outputs": [],
      "source": [
        "for index, row in ps_data[17760:].iterrows():\n",
        "    folium.Marker(\n",
        "        location = [row[\"latitude\"], row[\"longitude\"]],\n",
        "        tooltip = f'{row[\"service_type\"]} : {row[\"Name\"]}',\n",
        "        icon=folium.Icon(color = color_dict[row[\"service_type\"]]),\n",
        "    ).add_to(feature_dict[row[\"service_type\"]])"
      ]
    },
    {
      "cell_type": "code",
      "execution_count": 11,
      "metadata": {},
      "outputs": [
        {
          "data": {
            "text/plain": [
              "<folium.map.LayerControl at 0x121e468d0>"
            ]
          },
          "execution_count": 11,
          "metadata": {},
          "output_type": "execute_result"
        }
      ],
      "source": [
        "folium.LayerControl().add_to(base_map)"
      ]
    },
    {
      "cell_type": "code",
      "execution_count": 12,
      "metadata": {},
      "outputs": [
        {
          "data": {
            "text/html": [
              "<div style=\"width:100%;\"><div style=\"position:relative;width:100%;height:0;padding-bottom:60%;\"><span style=\"color:#565656\">Make this Notebook Trusted to load map: File -> Trust Notebook</span><iframe srcdoc=\"&lt;!DOCTYPE html&gt;\n",
              "&lt;html&gt;\n",
              "&lt;head&gt;\n",
              "    \n",
              "    &lt;meta http-equiv=&quot;content-type&quot; content=&quot;text/html; charset=UTF-8&quot; /&gt;\n",
              "    \n",
              "        &lt;script&gt;\n",
              "            L_NO_TOUCH = false;\n",
              "            L_DISABLE_3D = false;\n",
              "        &lt;/script&gt;\n",
              "    \n",
              "    &lt;style&gt;html, body {width: 100%;height: 100%;margin: 0;padding: 0;}&lt;/style&gt;\n",
              "    &lt;style&gt;#map {position:absolute;top:0;bottom:0;right:0;left:0;}&lt;/style&gt;\n",
              "    &lt;script src=&quot;https://cdn.jsdelivr.net/npm/leaflet@1.9.3/dist/leaflet.js&quot;&gt;&lt;/script&gt;\n",
              "    &lt;script src=&quot;https://code.jquery.com/jquery-3.7.1.min.js&quot;&gt;&lt;/script&gt;\n",
              "    &lt;script src=&quot;https://cdn.jsdelivr.net/npm/bootstrap@5.2.2/dist/js/bootstrap.bundle.min.js&quot;&gt;&lt;/script&gt;\n",
              "    &lt;script src=&quot;https://cdnjs.cloudflare.com/ajax/libs/Leaflet.awesome-markers/2.0.2/leaflet.awesome-markers.js&quot;&gt;&lt;/script&gt;\n",
              "    &lt;link rel=&quot;stylesheet&quot; href=&quot;https://cdn.jsdelivr.net/npm/leaflet@1.9.3/dist/leaflet.css&quot;/&gt;\n",
              "    &lt;link rel=&quot;stylesheet&quot; href=&quot;https://cdn.jsdelivr.net/npm/bootstrap@5.2.2/dist/css/bootstrap.min.css&quot;/&gt;\n",
              "    &lt;link rel=&quot;stylesheet&quot; href=&quot;https://netdna.bootstrapcdn.com/bootstrap/3.0.0/css/bootstrap.min.css&quot;/&gt;\n",
              "    &lt;link rel=&quot;stylesheet&quot; href=&quot;https://cdn.jsdelivr.net/npm/@fortawesome/fontawesome-free@6.2.0/css/all.min.css&quot;/&gt;\n",
              "    &lt;link rel=&quot;stylesheet&quot; href=&quot;https://cdnjs.cloudflare.com/ajax/libs/Leaflet.awesome-markers/2.0.2/leaflet.awesome-markers.css&quot;/&gt;\n",
              "    &lt;link rel=&quot;stylesheet&quot; href=&quot;https://cdn.jsdelivr.net/gh/python-visualization/folium/folium/templates/leaflet.awesome.rotate.min.css&quot;/&gt;\n",
              "    \n",
              "            &lt;meta name=&quot;viewport&quot; content=&quot;width=device-width,\n",
              "                initial-scale=1.0, maximum-scale=1.0, user-scalable=no&quot; /&gt;\n",
              "            &lt;style&gt;\n",
              "                #map_ab38a09581a158934d8e3d0597e7d30a {\n",
              "                    position: relative;\n",
              "                    width: 100.0%;\n",
              "                    height: 100.0%;\n",
              "                    left: 0.0%;\n",
              "                    top: 0.0%;\n",
              "                }\n",
              "                .leaflet-container { font-size: 1rem; }\n",
              "            &lt;/style&gt;\n",
              "        \n",
              "&lt;/head&gt;\n",
              "&lt;body&gt;\n",
              "    \n",
              "    \n",
              "            &lt;div class=&quot;folium-map&quot; id=&quot;map_ab38a09581a158934d8e3d0597e7d30a&quot; &gt;&lt;/div&gt;\n",
              "        \n",
              "&lt;/body&gt;\n",
              "&lt;script&gt;\n",
              "    \n",
              "    \n",
              "            var map_ab38a09581a158934d8e3d0597e7d30a = L.map(\n",
              "                &quot;map_ab38a09581a158934d8e3d0597e7d30a&quot;,\n",
              "                {\n",
              "                    center: [41.7377, -87.6976],\n",
              "                    crs: L.CRS.EPSG3857,\n",
              "                    zoom: 11,\n",
              "                    zoomControl: true,\n",
              "                    preferCanvas: false,\n",
              "                    overlay: false,\n",
              "                    name: &quot;base&quot;,\n",
              "                }\n",
              "            );\n",
              "\n",
              "            \n",
              "\n",
              "        \n",
              "    \n",
              "            var tile_layer_531127e4b68cc36715651974d9ae13bb = L.tileLayer(\n",
              "                &quot;https://tile.openstreetmap.org/{z}/{x}/{y}.png&quot;,\n",
              "                {&quot;attribution&quot;: &quot;\\u0026copy; \\u003ca href=\\&quot;https://www.openstreetmap.org/copyright\\&quot;\\u003eOpenStreetMap\\u003c/a\\u003e contributors&quot;, &quot;detectRetina&quot;: false, &quot;maxNativeZoom&quot;: 19, &quot;maxZoom&quot;: 19, &quot;minZoom&quot;: 0, &quot;noWrap&quot;: false, &quot;opacity&quot;: 1, &quot;subdomains&quot;: &quot;abc&quot;, &quot;tms&quot;: false}\n",
              "            );\n",
              "        \n",
              "    \n",
              "            tile_layer_531127e4b68cc36715651974d9ae13bb.addTo(map_ab38a09581a158934d8e3d0597e7d30a);\n",
              "        \n",
              "    \n",
              "            var feature_group_21f845fa845651eca83591b80ec7ff6e = L.featureGroup(\n",
              "                {}\n",
              "            );\n",
              "        \n",
              "    \n",
              "            feature_group_21f845fa845651eca83591b80ec7ff6e.addTo(map_ab38a09581a158934d8e3d0597e7d30a);\n",
              "        \n",
              "    \n",
              "            var feature_group_9a70266d83ec7df84b60cf8beadaebde = L.featureGroup(\n",
              "                {}\n",
              "            );\n",
              "        \n",
              "    \n",
              "            feature_group_9a70266d83ec7df84b60cf8beadaebde.addTo(map_ab38a09581a158934d8e3d0597e7d30a);\n",
              "        \n",
              "    \n",
              "            var feature_group_c432d435b676967eca5fe00a4bf62e80 = L.featureGroup(\n",
              "                {}\n",
              "            );\n",
              "        \n",
              "    \n",
              "            feature_group_c432d435b676967eca5fe00a4bf62e80.addTo(map_ab38a09581a158934d8e3d0597e7d30a);\n",
              "        \n",
              "    \n",
              "            var feature_group_0a94699754e9333c43d4dd08927d31e1 = L.featureGroup(\n",
              "                {}\n",
              "            );\n",
              "        \n",
              "    \n",
              "            feature_group_0a94699754e9333c43d4dd08927d31e1.addTo(map_ab38a09581a158934d8e3d0597e7d30a);\n",
              "        \n",
              "    \n",
              "            var feature_group_562dcfd3c400b324fedcd9d6d376600b = L.featureGroup(\n",
              "                {}\n",
              "            );\n",
              "        \n",
              "    \n",
              "            feature_group_562dcfd3c400b324fedcd9d6d376600b.addTo(map_ab38a09581a158934d8e3d0597e7d30a);\n",
              "        \n",
              "    \n",
              "            var layer_control_2acc3485201a47cd6167b54d154e3ea5_layers = {\n",
              "                base_layers : {\n",
              "                    &quot;openstreetmap&quot; : tile_layer_531127e4b68cc36715651974d9ae13bb,\n",
              "                },\n",
              "                overlays :  {\n",
              "                    &quot;Bus Stops&quot; : feature_group_21f845fa845651eca83591b80ec7ff6e,\n",
              "                    &quot;Divvy Bike Stations&quot; : feature_group_9a70266d83ec7df84b60cf8beadaebde,\n",
              "                    &quot;L Stop&quot; : feature_group_c432d435b676967eca5fe00a4bf62e80,\n",
              "                    &quot;Parks&quot; : feature_group_0a94699754e9333c43d4dd08927d31e1,\n",
              "                    &quot;Libraries&quot; : feature_group_562dcfd3c400b324fedcd9d6d376600b,\n",
              "                },\n",
              "            };\n",
              "            let layer_control_2acc3485201a47cd6167b54d154e3ea5 = L.control.layers(\n",
              "                layer_control_2acc3485201a47cd6167b54d154e3ea5_layers.base_layers,\n",
              "                layer_control_2acc3485201a47cd6167b54d154e3ea5_layers.overlays,\n",
              "                {&quot;autoZIndex&quot;: true, &quot;collapsed&quot;: true, &quot;position&quot;: &quot;topright&quot;}\n",
              "            ).addTo(map_ab38a09581a158934d8e3d0597e7d30a);\n",
              "\n",
              "        \n",
              "&lt;/script&gt;\n",
              "&lt;/html&gt;\" style=\"position:absolute;width:100%;height:100%;left:0;top:0;border:none !important;\" allowfullscreen webkitallowfullscreen mozallowfullscreen></iframe></div></div>"
            ],
            "text/plain": [
              "<folium.folium.Map at 0x11f3fad10>"
            ]
          },
          "execution_count": 12,
          "metadata": {},
          "output_type": "execute_result"
        }
      ],
      "source": [
        "base_map"
      ]
    }
  ],
  "metadata": {
    "kernelspec": {
      "display_name": "Python 3",
      "language": "python",
      "name": "python3"
    },
    "language_info": {
      "codemirror_mode": {
        "name": "ipython",
        "version": 3
      },
      "file_extension": ".py",
      "mimetype": "text/x-python",
      "name": "python",
      "nbconvert_exporter": "python",
      "pygments_lexer": "ipython3",
      "version": "3.11.5"
    },
    "orig_nbformat": 4
  },
  "nbformat": 4,
  "nbformat_minor": 2
}
